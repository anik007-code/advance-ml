{
 "cells": [
  {
   "cell_type": "markdown",
   "id": "7c0709ed",
   "metadata": {},
   "source": [
    "# Hand Written Digit Recognition"
   ]
  },
  {
   "cell_type": "code",
   "execution_count": 21,
   "id": "0eb2d20c",
   "metadata": {},
   "outputs": [],
   "source": [
    "import tensorflow as tf\n",
    "import tensorflow\n",
    "import matplotlib.pyplot as plt \n",
    "from tensorflow import keras \n",
    "from keras.layers import Dense \n",
    "import numpy as np\n",
    "import keras \n",
    "from tensorflow.keras.utils import to_categorical"
   ]
  },
  {
   "cell_type": "code",
   "execution_count": 22,
   "id": "8bd1bb6f",
   "metadata": {},
   "outputs": [],
   "source": [
    "(xtrain,ytrain),(xtest,ytest)=tf.keras.datasets.mnist.load_data()"
   ]
  },
  {
   "cell_type": "code",
   "execution_count": 24,
   "id": "0a582386",
   "metadata": {},
   "outputs": [
    {
     "data": {
      "text/plain": [
       "<matplotlib.image.AxesImage at 0x1f090d949d0>"
      ]
     },
     "execution_count": 24,
     "metadata": {},
     "output_type": "execute_result"
    },
    {
     "data": {
      "image/png": "[encoded data removed]",
      "text/plain": [
       "<Figure size 432x288 with 1 Axes>"
      ]
     },
     "metadata": {
      "needs_background": "light"
     },
     "output_type": "display_data"
    }
   ],
   "source": [
    "plt.imshow(xtest[5])"
   ]
  },
  {
   "cell_type": "code",
   "execution_count": 25,
   "id": "df06247c",
   "metadata": {},
   "outputs": [],
   "source": [
    "#flatten\n",
    "xtrain=xtrain/255\n",
    "xtest=xtest/255"
   ]
  },
  {
   "cell_type": "code",
   "execution_count": 26,
   "id": "98f4a0a5",
   "metadata": {},
   "outputs": [],
   "source": [
    "xtrain=xtrain.reshape(-1,784)\n",
    "xtest=xtest.reshape(-1,784)"
   ]
  },
  {
   "cell_type": "code",
   "execution_count": 27,
   "id": "28272eeb",
   "metadata": {},
   "outputs": [],
   "source": [
    "model=keras.Sequential()"
   ]
  },
  {
   "cell_type": "code",
   "execution_count": 28,
   "id": "36c1efdf",
   "metadata": {},
   "outputs": [],
   "source": [
    "model.add(Dense(64,activation='relu',input_dim=784)) #input\n",
    "model.add(Dense(64,activation='relu'))  #hidden \n",
    "model.add(Dense(64,activation='softmax')) #output layer"
   ]
  },
  {
   "cell_type": "code",
   "execution_count": 29,
   "id": "b505f655",
   "metadata": {},
   "outputs": [],
   "source": [
    "model.compile(optimizer='adam',loss='categorical_crossentropy',metrics=['accuracy'])"
   ]
  },
  {
   "cell_type": "code",
   "execution_count": 35,
   "id": "db0db462",
   "metadata": {},
   "outputs": [
    {
     "name": "stdout",
     "output_type": "stream",
     "text": [
      "Epoch 1/10\n",
      "300/300 [==============================] - 4s 12ms/step - loss: 0.0054 - accuracy: 0.9992\n",
      "Epoch 2/10\n",
      "300/300 [==============================] - 4s 14ms/step - loss: 0.0051 - accuracy: 0.9992\n",
      "Epoch 3/10\n",
      "300/300 [==============================] - 4s 13ms/step - loss: 0.0031 - accuracy: 0.9997\n",
      "Epoch 4/10\n",
      "300/300 [==============================] - 4s 13ms/step - loss: 0.0024 - accuracy: 0.9998\n",
      "Epoch 5/10\n",
      "300/300 [==============================] - 4s 12ms/step - loss: 0.0019 - accuracy: 0.9999\n",
      "Epoch 6/10\n",
      "300/300 [==============================] - 4s 13ms/step - loss: 0.0020 - accuracy: 0.9998\n",
      "Epoch 7/10\n",
      "300/300 [==============================] - 4s 12ms/step - loss: 0.0179 - accuracy: 0.9940\n",
      "Epoch 8/10\n",
      "300/300 [==============================] - 4s 13ms/step - loss: 0.0078 - accuracy: 0.9976\n",
      "Epoch 9/10\n",
      "300/300 [==============================] - 4s 12ms/step - loss: 0.0026 - accuracy: 0.9995\n",
      "Epoch 10/10\n",
      "300/300 [==============================] - 4s 12ms/step - loss: 7.1857e-04 - accuracy: 1.0000\n"
     ]
    },
    {
     "data": {
      "text/plain": [
       "<keras.callbacks.History at 0x1f0aeac6400>"
      ]
     },
     "execution_count": 35,
     "metadata": {},
     "output_type": "execute_result"
    }
   ],
   "source": [
    "\n",
    "model.fit(xtrain,to_categorical(ytrain),epochs=10,batch_size=200)\n",
    "\n"
   ]
  },
  {
   "cell_type": "code",
   "execution_count": 36,
   "id": "915c417c",
   "metadata": {},
   "outputs": [
    {
     "name": "stdout",
     "output_type": "stream",
     "text": [
      "313/313 [==============================] - 1s 4ms/step - loss: 0.0635 - accuracy: 0.9850\n"
     ]
    },
    {
     "data": {
      "text/plain": [
       "[0.06351148337125778, 0.9850000143051147]"
      ]
     },
     "execution_count": 36,
     "metadata": {},
     "output_type": "execute_result"
    }
   ],
   "source": [
    "model.evaluate(xtest,to_categorical(ytest))"
   ]
  },
  {
   "cell_type": "code",
   "execution_count": 37,
   "id": "8a39230e",
   "metadata": {},
   "outputs": [],
   "source": [
    "pred=model.predict(xtest)"
   ]
  },
  {
   "cell_type": "code",
   "execution_count": 38,
   "id": "e528968f",
   "metadata": {},
   "outputs": [
    {
     "data": {
      "text/plain": [
       "array([[7.9644472e-11, 1.4878813e-13, 4.5975199e-10, ..., 9.9999988e-01,\n",
       "        5.7129718e-10, 1.5886763e-09],\n",
       "       [1.2854805e-12, 3.6577564e-08, 1.0000000e+00, ..., 1.8640331e-21,\n",
       "        1.8361446e-11, 9.8670942e-19],\n",
       "       [2.5576673e-11, 9.9999523e-01, 2.6960797e-07, ..., 1.1273999e-06,\n",
       "        3.1571615e-06, 5.9415618e-11],\n",
       "       ...,\n",
       "       [4.7869091e-20, 8.0445186e-16, 2.6619288e-20, ..., 2.4896177e-10,\n",
       "        4.2240868e-12, 1.0894797e-09],\n",
       "       [2.3185420e-15, 2.0840576e-17, 7.2492480e-19, ..., 2.0117338e-16,\n",
       "        1.9893431e-09, 6.7514287e-18],\n",
       "       [4.2261052e-14, 1.4278062e-17, 3.0473668e-13, ..., 2.5914448e-18,\n",
       "        2.1312855e-15, 3.7130100e-17]], dtype=float32)"
      ]
     },
     "execution_count": 38,
     "metadata": {},
     "output_type": "execute_result"
    }
   ],
   "source": [
    "pred"
   ]
  },
  {
   "cell_type": "code",
   "execution_count": 41,
   "id": "08c0721e",
   "metadata": {},
   "outputs": [
    {
     "data": {
      "text/plain": [
       "1"
      ]
     },
     "execution_count": 41,
     "metadata": {},
     "output_type": "execute_result"
    }
   ],
   "source": [
    "np.argmax(pred[2])"
   ]
  },
  {
   "cell_type": "markdown",
   "id": "d5aefe5a",
   "metadata": {},
   "source": [
    "# From Net"
   ]
  },
  {
   "cell_type": "code",
   "execution_count": 34,
   "id": "ea8ac143",
   "metadata": {},
   "outputs": [
    {
     "name": "stdout",
     "output_type": "stream",
     "text": [
      "Epoch 1/10\n",
      "300/300 - 5s - loss: 0.2832 - accuracy: 0.9191 - val_loss: 0.1458 - val_accuracy: 0.9567\n",
      "Epoch 2/10\n",
      "300/300 - 3s - loss: 0.1118 - accuracy: 0.9678 - val_loss: 0.0932 - val_accuracy: 0.9732\n",
      "Epoch 3/10\n",
      "300/300 - 3s - loss: 0.0725 - accuracy: 0.9788 - val_loss: 0.0827 - val_accuracy: 0.9753\n",
      "Epoch 4/10\n",
      "300/300 - 3s - loss: 0.0513 - accuracy: 0.9850 - val_loss: 0.0690 - val_accuracy: 0.9789\n",
      "Epoch 5/10\n",
      "300/300 - 3s - loss: 0.0366 - accuracy: 0.9895 - val_loss: 0.0609 - val_accuracy: 0.9808\n",
      "Epoch 6/10\n",
      "300/300 - 3s - loss: 0.0267 - accuracy: 0.9924 - val_loss: 0.0600 - val_accuracy: 0.9816\n",
      "Epoch 7/10\n",
      "300/300 - 4s - loss: 0.0206 - accuracy: 0.9947 - val_loss: 0.0626 - val_accuracy: 0.9801\n",
      "Epoch 8/10\n",
      "300/300 - 3s - loss: 0.0145 - accuracy: 0.9966 - val_loss: 0.0572 - val_accuracy: 0.9812\n",
      "Epoch 9/10\n",
      "300/300 - 3s - loss: 0.0103 - accuracy: 0.9982 - val_loss: 0.0593 - val_accuracy: 0.9823\n",
      "Epoch 10/10\n",
      "300/300 - 4s - loss: 0.0074 - accuracy: 0.9988 - val_loss: 0.0563 - val_accuracy: 0.9834\n",
      "Baseline Error: 1.66%\n"
     ]
    }
   ],
   "source": [
    "\n",
    "# Baseline MLP for MNIST dataset\n",
    "from keras.datasets import mnist\n",
    "from keras.models import Sequential\n",
    "from keras.layers import Dense\n",
    "from keras.utils import np_utils\n",
    "# load data\n",
    "(X_train, y_train), (X_test, y_test) = mnist.load_data()\n",
    "# flatten 28*28 images to a 784 vector for each image\n",
    "num_pixels = X_train.shape[1] * X_train.shape[2]\n",
    "X_train = X_train.reshape((X_train.shape[0], num_pixels)).astype('float32')\n",
    "X_test = X_test.reshape((X_test.shape[0], num_pixels)).astype('float32')\n",
    "# normalize inputs from 0-255 to 0-1\n",
    "X_train = X_train / 255\n",
    "X_test = X_test / 255\n",
    "# one hot encode outputs\n",
    "y_train = np_utils.to_categorical(y_train)\n",
    "y_test = np_utils.to_categorical(y_test)\n",
    "num_classes = y_test.shape[1]\n",
    "# define baseline model\n",
    "def baseline_model():\n",
    "\t# create model\n",
    "\tmodel = Sequential()\n",
    "\tmodel.add(Dense(num_pixels, input_dim=num_pixels, kernel_initializer='normal', activation='relu'))\n",
    "\tmodel.add(Dense(num_classes, kernel_initializer='normal', activation='softmax'))\n",
    "\t# Compile model\n",
    "\tmodel.compile(loss='categorical_crossentropy', optimizer='adam', metrics=['accuracy'])\n",
    "\treturn model\n",
    "# build the model\n",
    "model = baseline_model()\n",
    "# Fit the model\n",
    "model.fit(X_train, y_train, validation_data=(X_test, y_test), epochs=10, batch_size=200, verbose=2)\n",
    "# Final evaluation of the model\n",
    "scores = model.evaluate(X_test, y_test, verbose=0)\n",
    "print(\"Baseline Error: %.2f%%\" % (100-scores[1]*100))"
   ]
  },
  {
   "cell_type": "code",
   "execution_count": null,
   "id": "f7ac3ffa",
   "metadata": {},
   "outputs": [],
   "source": []
  }
 ],
 "metadata": {
  "kernelspec": {
   "display_name": "Python 3",
   "language": "python",
   "name": "python3"
  },
  "language_info": {
   "codemirror_mode": {
    "name": "ipython",
    "version": 3
   },
   "file_extension": ".py",
   "mimetype": "text/x-python",
   "name": "python",
   "nbconvert_exporter": "python",
   "pygments_lexer": "ipython3",
   "version": "3.8.8"
  }
 },
 "nbformat": 4,
 "nbformat_minor": 5
}
