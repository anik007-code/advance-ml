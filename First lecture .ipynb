{
 "cells": [
  {
   "cell_type": "code",
   "execution_count": 1,
   "id": "0a8341c6",
   "metadata": {},
   "outputs": [
    {
     "name": "stdout",
     "output_type": "stream",
     "text": [
      "tf.Tensor(3, shape=(), dtype=int32)\n",
      "tf.Tensor([4 6], shape=(2,), dtype=int32)\n",
      "tf.Tensor(25, shape=(), dtype=int32)\n",
      "tf.Tensor(61, shape=(), dtype=int32)\n"
     ]
    }
   ],
   "source": [
    "import tensorflow as tf \n",
    "print(tf.add(1,2))\n",
    "print(tf.add([1,2],[3,4]))\n",
    "print(tf.square(5))\n",
    "\n",
    "#operator overloading is also supported \n",
    "print(tf.square(5)+tf.square(6))\n",
    "\n",
    "\n",
    "\n",
    "\n"
   ]
  },
  {
   "cell_type": "code",
   "execution_count": 2,
   "id": "c63bdd7c",
   "metadata": {},
   "outputs": [
    {
     "data": {
      "text/plain": [
       "<tf.Tensor: shape=(1, 2), dtype=int32, numpy=array([[2, 3]])>"
      ]
     },
     "execution_count": 2,
     "metadata": {},
     "output_type": "execute_result"
    }
   ],
   "source": [
    "a=tf.matmul([[1]],[[2,3]])\n",
    "a"
   ]
  },
  {
   "cell_type": "code",
   "execution_count": 3,
   "id": "09090eba",
   "metadata": {},
   "outputs": [
    {
     "name": "stdout",
     "output_type": "stream",
     "text": [
      "tensorflow operations convert array to tensor automatically \n",
      "tf.Tensor(\n",
      "[[35. 35. 35.]\n",
      " [35. 35. 35.]\n",
      " [35. 35. 35.]], shape=(3, 3), dtype=float64)\n"
     ]
    }
   ],
   "source": [
    "import numpy as np\n",
    "ndarray=np.ones([3,3])\n",
    "print(\"tensorflow operations convert array to tensor automatically \")\n",
    "tensor=tf.multiply(ndarray,35)\n",
    "print(tensor)\n"
   ]
  },
  {
   "cell_type": "code",
   "execution_count": 4,
   "id": "ddf7173a",
   "metadata": {},
   "outputs": [
    {
     "name": "stdout",
     "output_type": "stream",
     "text": [
      "[[40. 40. 40.]\n",
      " [40. 40. 40.]\n",
      " [40. 40. 40.]]\n"
     ]
    }
   ],
   "source": [
    "print(np.add(tensor,5))"
   ]
  },
  {
   "cell_type": "code",
   "execution_count": 5,
   "id": "e3ced471",
   "metadata": {},
   "outputs": [
    {
     "name": "stdout",
     "output_type": "stream",
     "text": [
      "[[35. 35. 35.]\n",
      " [35. 35. 35.]\n",
      " [35. 35. 35.]]\n"
     ]
    }
   ],
   "source": [
    "print(tensor.numpy())"
   ]
  },
  {
   "cell_type": "code",
   "execution_count": 6,
   "id": "1eda3042",
   "metadata": {},
   "outputs": [
    {
     "name": "stdout",
     "output_type": "stream",
     "text": [
      "is there any gpu availabe ?\n",
      "[]\n",
      "is the tensor on gpu #0:\n",
      "False\n"
     ]
    }
   ],
   "source": [
    "x=tf. random.uniform([3,3])\n",
    "\n",
    "print(\"is there any gpu availabe ?\")\n",
    "print(tf.config.experimental.list_physical_devices(\"GPU\"))\n",
    "print(\"is the tensor on gpu #0:\")\n",
    "print(x.device.endswith('GPU:0'))"
   ]
  },
  {
   "cell_type": "code",
   "execution_count": 7,
   "id": "e14eb5e3",
   "metadata": {},
   "outputs": [
    {
     "name": "stdout",
     "output_type": "stream",
     "text": [
      "tf.Tensor(\n",
      "[[ 6  8]\n",
      " [10 12]], shape=(2, 2), dtype=int32)\n",
      "tf.Tensor(\n",
      "[[ 5 12]\n",
      " [21 32]], shape=(2, 2), dtype=int32)\n",
      "tf.Tensor(\n",
      "[[19 22]\n",
      " [43 50]], shape=(2, 2), dtype=int32)\n"
     ]
    }
   ],
   "source": [
    "a=tf.constant([[1,2],[3,4]])\n",
    "b=tf.constant([[5,6],[7,8]])\n",
    "\n",
    "print(tf.add(a,b))\n",
    "print(tf.multiply(a,b))\n",
    "print(tf.matmul(a,b))   "
   ]
  },
  {
   "cell_type": "code",
   "execution_count": 8,
   "id": "7221d0f2",
   "metadata": {},
   "outputs": [
    {
     "name": "stdout",
     "output_type": "stream",
     "text": [
      "tf.Tensor(\n",
      "[[ 6  8]\n",
      " [10 12]], shape=(2, 2), dtype=int32) tf.Tensor(\n",
      "[[ 5 12]\n",
      " [21 32]], shape=(2, 2), dtype=int32) tf.Tensor(\n",
      "[[19 22]\n",
      " [43 50]], shape=(2, 2), dtype=int32)\n"
     ]
    }
   ],
   "source": [
    "print(a+b,a*b,a@b)"
   ]
  },
  {
   "cell_type": "code",
   "execution_count": 9,
   "id": "86261a6a",
   "metadata": {},
   "outputs": [
    {
     "name": "stdout",
     "output_type": "stream",
     "text": [
      "[0 1 1 2 3 4 5 6 7 8 9]\n",
      "first value: 1\n",
      "second value: 1\n",
      "third value: 2\n",
      "fourth value: 3\n",
      "fifth value: 4\n",
      "Last value: 9\n"
     ]
    }
   ],
   "source": [
    "#single axis indexing \n",
    "rank1=tf.constant([0,1,1,2,3,4,5,6,7,8,9])\n",
    "print(rank1.numpy())\n",
    "\n",
    "print('first value:',rank1[1].numpy())\n",
    "print('second value:',rank1[2].numpy())\n",
    "print('third value:',rank1[3].numpy())\n",
    "print('fourth value:',rank1[4].numpy())\n",
    "print('fifth value:',rank1[5].numpy())\n",
    "print('Last value:',rank1[10].numpy())"
   ]
  },
  {
   "cell_type": "code",
   "execution_count": 10,
   "id": "783ca24c",
   "metadata": {},
   "outputs": [
    {
     "name": "stdout",
     "output_type": "stream",
     "text": [
      "all values: [0 1 1 2 3 4 5 6 7 8 9]\n",
      "all values after 5: [4 5 6 7 8 9]\n",
      "all values: [1 1 2 3]\n",
      "all values reversed: [9 8 7 6 5 4 3 2 1 1 0]\n",
      "all values after jumping: [9 7 5 3 1 0]\n"
     ]
    }
   ],
   "source": [
    "#example using slicing \n",
    "print('all values:',rank1[:].numpy())\n",
    "print('all values after 5:',rank1[5:].numpy())\n",
    "print('all values:',rank1[1:5].numpy())\n",
    "print('all values reversed:',rank1[::-1].numpy())\n",
    "print('all values after jumping:',rank1[::-2].numpy())"
   ]
  },
  {
   "cell_type": "code",
   "execution_count": 11,
   "id": "d6342105",
   "metadata": {},
   "outputs": [
    {
     "name": "stdout",
     "output_type": "stream",
     "text": [
      "[[1 1]\n",
      " [2 2]\n",
      " [3 3]\n",
      " [4 4]]\n",
      "2\n",
      "[2 2]\n",
      "[2 2]\n",
      "[1 2 3 4]\n"
     ]
    }
   ],
   "source": [
    "#multi  axis indexing \n",
    "rank2=tf.constant([[1,1],[2,2],[3,3],[4,4]])\n",
    "print(rank2.numpy())\n",
    "\n",
    "print(rank2[1,1].numpy())\n",
    "print(rank2[1,:].numpy())\n",
    "\n",
    "print(rank2[1,:].numpy())\n",
    "\n",
    "print(rank2[:,1].numpy())\n"
   ]
  },
  {
   "cell_type": "code",
   "execution_count": 12,
   "id": "c18dc667",
   "metadata": {},
   "outputs": [
    {
     "name": "stdout",
     "output_type": "stream",
     "text": [
      "[[[0 1 2 3 4]\n",
      "  [0 1 2 3 4]\n",
      "  [0 1 2 3 4]]]\n",
      "\n",
      "2 index:  [[2 2 2]]\n"
     ]
    }
   ],
   "source": [
    "#rank 3 tensor \n",
    "\n",
    "rank3=tf.constant([[[0,1,2,3,4],[0,1,2,3,4],[0,1,2,3,4]]])\n",
    "print(rank3.numpy())\n",
    "\n",
    "print()\n",
    "\n",
    "print('2 index: ',rank3[:,:,2].numpy())"
   ]
  },
  {
   "cell_type": "code",
   "execution_count": 13,
   "id": "0df93ebc",
   "metadata": {},
   "outputs": [
    {
     "name": "stdout",
     "output_type": "stream",
     "text": [
      "[[[[0 1 2 3 4]\n",
      "   [0 1 2 3 4]\n",
      "   [0 1 2 3 4]]]]\n",
      "\n",
      "2 index:  [[[0 1 2 3 4]]]\n"
     ]
    }
   ],
   "source": [
    "#rank 4 tensor \n",
    "\n",
    "rank3=tf.constant([[[[0,1,2,3,4],[0,1,2,3,4],[0,1,2,3,4]]]])\n",
    "print(rank3.numpy())\n",
    "\n",
    "print()\n",
    "\n",
    "print('2 index: ',rank3[:,:,2,:].numpy())"
   ]
  },
  {
   "cell_type": "code",
   "execution_count": 14,
   "id": "2460bc89",
   "metadata": {},
   "outputs": [
    {
     "name": "stdout",
     "output_type": "stream",
     "text": [
      "(3, 1)\n"
     ]
    }
   ],
   "source": [
    "#manipulating shape \n",
    "\n",
    "y=tf.constant([[1],[2],[3]])\n",
    "x=tf.Variable(y)\n",
    "print(x.shape)"
   ]
  },
  {
   "cell_type": "code",
   "execution_count": 15,
   "id": "cc2b3d27",
   "metadata": {},
   "outputs": [
    {
     "name": "stdout",
     "output_type": "stream",
     "text": [
      "tf.Tensor([[1 2 3]], shape=(1, 3), dtype=int32)\n"
     ]
    }
   ],
   "source": [
    "print(tf.reshape(x,[1,3]))"
   ]
  },
  {
   "cell_type": "code",
   "execution_count": 16,
   "id": "9f91c06c",
   "metadata": {},
   "outputs": [
    {
     "name": "stdout",
     "output_type": "stream",
     "text": [
      "tf.Tensor([2 4 6], shape=(3,), dtype=int32)\n",
      "tf.Tensor([2 4 6], shape=(3,), dtype=int32)\n",
      "tf.Tensor([2 4 6], shape=(3,), dtype=int32)\n"
     ]
    }
   ],
   "source": [
    "#broadcast\n",
    "\n",
    "\n",
    "x=tf.constant([1,2,3])\n",
    "y=tf.constant([2])\n",
    "z=tf.constant([2])\n",
    "\n",
    "\n",
    "print(tf.multiply(x,2))\n",
    "\n",
    "print(x*y)\n",
    "\n",
    "print(x*z)"
   ]
  },
  {
   "cell_type": "code",
   "execution_count": null,
   "id": "2771d963",
   "metadata": {},
   "outputs": [],
   "source": []
  },
  {
   "cell_type": "code",
   "execution_count": null,
   "id": "7166c609",
   "metadata": {},
   "outputs": [],
   "source": []
  },
  {
   "cell_type": "markdown",
   "id": "debdb697",
   "metadata": {},
   "source": [
    "# variable"
   ]
  },
  {
   "cell_type": "code",
   "execution_count": 17,
   "id": "50f02b1c",
   "metadata": {},
   "outputs": [
    {
     "name": "stdout",
     "output_type": "stream",
     "text": [
      "<tf.Variable 'Variable:0' shape=(4,) dtype=bool, numpy=array([False, False, False, False])>\n",
      "<tf.Variable 'Variable:0' shape=(2,) dtype=complex128, numpy=array([5.+4.j, 6.+1.j])>\n",
      "<bound method BaseResourceVariable.numpy of <tf.Variable 'Variable:0' shape=(2, 2) dtype=int32, numpy=\n",
      "array([[1, 2],\n",
      "       [3, 4]])>>\n"
     ]
    }
   ],
   "source": [
    "tensor=tf.constant([[1,2],[3,4]])\n",
    "var=tf.Variable(tensor)\n",
    "\n",
    "\n",
    "bool=tf.Variable([False,False,False,False])\n",
    "\n",
    "com=tf.Variable([5+4j,6+1j])\n",
    "\n",
    "print(bool)\n",
    "print(com)\n",
    "print(var.numpy)"
   ]
  },
  {
   "cell_type": "code",
   "execution_count": 18,
   "id": "5fdf958c",
   "metadata": {},
   "outputs": [
    {
     "name": "stdout",
     "output_type": "stream",
     "text": [
      " reshape is not available in variable tf.Tensor([[1 2 3 4]], shape=(1, 4), dtype=int32)\n"
     ]
    }
   ],
   "source": [
    "#variables cant be reshape\n",
    "\n",
    "\n",
    "\n",
    "print(' reshape is not available in variable',tf.reshape(var,([1,4])))"
   ]
  },
  {
   "cell_type": "code",
   "execution_count": 19,
   "id": "42365681",
   "metadata": {},
   "outputs": [
    {
     "name": "stdout",
     "output_type": "stream",
     "text": [
      "ValueError: Cannot assign to variable Variable:0 due to variable shape (2,) and value shape (3,) are incompatible\n"
     ]
    }
   ],
   "source": [
    "a=tf.Variable([2,3])\n",
    "a.assign([1,2])\n",
    "try:\n",
    "    a.assign([1,2,3])\n",
    "except Exception as e:\n",
    "    print(f'{type(e).__name__}: {e}')"
   ]
  },
  {
   "cell_type": "code",
   "execution_count": 20,
   "id": "42e2c54c",
   "metadata": {},
   "outputs": [
    {
     "name": "stdout",
     "output_type": "stream",
     "text": [
      "[3 9]\n",
      "[4 8]\n",
      "[ 8 18]\n",
      "[3 9]\n"
     ]
    }
   ],
   "source": [
    "a=tf.Variable([4,8])\n",
    "\n",
    "\n",
    "b=tf.Variable(a)\n",
    "\n",
    "a.assign([3,9])\n",
    "\n",
    "print(a.numpy())\n",
    "print(b.numpy())\n",
    "\n",
    "\n",
    "print(a.assign_add([5,9]).numpy())\n",
    "print(a.assign_sub([5,9]).numpy())"
   ]
  },
  {
   "cell_type": "code",
   "execution_count": 29,
   "id": "d184431e",
   "metadata": {},
   "outputs": [
    {
     "ename": "AttributeError",
     "evalue": "module 'tensorflow' has no attribute 'assign'",
     "output_type": "error",
     "traceback": [
      "\u001b[1;31m---------------------------------------------------------------------------\u001b[0m",
      "\u001b[1;31mAttributeError\u001b[0m                            Traceback (most recent call last)",
      "\u001b[1;32m<ipython-input-29-5d79e59da44e>\u001b[0m in \u001b[0;36m<module>\u001b[1;34m\u001b[0m\n\u001b[0;32m      8\u001b[0m \u001b[0mmid\u001b[0m\u001b[1;33m=\u001b[0m \u001b[0mtf\u001b[0m\u001b[1;33m.\u001b[0m\u001b[0madd\u001b[0m\u001b[1;33m(\u001b[0m\u001b[0ma\u001b[0m\u001b[1;33m,\u001b[0m\u001b[0mb\u001b[0m\u001b[1;33m)\u001b[0m\u001b[1;33m\u001b[0m\u001b[1;33m\u001b[0m\u001b[0m\n\u001b[0;32m      9\u001b[0m \u001b[1;33m\u001b[0m\u001b[0m\n\u001b[1;32m---> 10\u001b[1;33m \u001b[0mup\u001b[0m\u001b[1;33m=\u001b[0m \u001b[0mtf\u001b[0m\u001b[1;33m.\u001b[0m\u001b[0massign\u001b[0m\u001b[1;33m(\u001b[0m\u001b[0ma\u001b[0m\u001b[1;33m,\u001b[0m\u001b[0mmid\u001b[0m\u001b[1;33m)\u001b[0m\u001b[1;33m\u001b[0m\u001b[1;33m\u001b[0m\u001b[0m\n\u001b[0m\u001b[0;32m     11\u001b[0m \u001b[0mtg\u001b[0m\u001b[1;33m=\u001b[0m \u001b[0mtf\u001b[0m\u001b[1;33m.\u001b[0m\u001b[0minitialize_all_variables\u001b[0m\u001b[1;33m(\u001b[0m\u001b[1;33m)\u001b[0m\u001b[1;33m\u001b[0m\u001b[1;33m\u001b[0m\u001b[0m\n\u001b[0;32m     12\u001b[0m \u001b[1;33m\u001b[0m\u001b[0m\n",
      "\u001b[1;31mAttributeError\u001b[0m: module 'tensorflow' has no attribute 'assign'"
     ]
    }
   ],
   "source": [
    "import numpy as  np \n",
    "import tensorflow as tf\n",
    "\n",
    "\n",
    "a= tf.Variable(0  , name='input')\n",
    "b=tf.constant(3)\n",
    "\n",
    "mid= tf.add(a,b)\n",
    "\n",
    "up= tf.assign(a,mid)\n",
    "tg= tf.initialize_all_variables()\n",
    "\n",
    "with tf.Session()  as sess:\n",
    "    sess.run(tg)\n",
    "    print(sess.run(a))\n",
    "    \n",
    "    for i in range(3):\n",
    "        sess.run(up)\n",
    "        print(sess.run(a))"
   ]
  },
  {
   "cell_type": "code",
   "execution_count": 1,
   "id": "4aa5117e",
   "metadata": {},
   "outputs": [],
   "source": [
    "# graphs"
   ]
  },
  {
   "cell_type": "code",
   "execution_count": 3,
   "id": "7aa00888",
   "metadata": {},
   "outputs": [
    {
     "ename": "TypeError",
     "evalue": "function_complete() missing 3 required positional arguments: 'x', 'y', and 'b'",
     "output_type": "error",
     "traceback": [
      "\u001b[1;31m---------------------------------------------------------------------------\u001b[0m",
      "\u001b[1;31mTypeError\u001b[0m                                 Traceback (most recent call last)",
      "\u001b[1;32m<ipython-input-3-a6169b4a0c4f>\u001b[0m in \u001b[0;36m<module>\u001b[1;34m\u001b[0m\n\u001b[0;32m      5\u001b[0m     \u001b[0mx\u001b[0m\u001b[1;33m=\u001b[0m\u001b[0mx\u001b[0m\u001b[1;33m+\u001b[0m\u001b[0mb\u001b[0m\u001b[1;33m\u001b[0m\u001b[1;33m\u001b[0m\u001b[0m\n\u001b[0;32m      6\u001b[0m     \u001b[1;32mreturn\u001b[0m \u001b[0mx\u001b[0m\u001b[1;33m\u001b[0m\u001b[1;33m\u001b[0m\u001b[0m\n\u001b[1;32m----> 7\u001b[1;33m \u001b[0mfunction_uses\u001b[0m\u001b[1;33m=\u001b[0m\u001b[0mtf\u001b[0m\u001b[1;33m.\u001b[0m\u001b[0mfunction\u001b[0m\u001b[1;33m(\u001b[0m\u001b[0mfunction_complete\u001b[0m\u001b[1;33m(\u001b[0m\u001b[1;33m)\u001b[0m\u001b[1;33m)\u001b[0m\u001b[1;33m\u001b[0m\u001b[1;33m\u001b[0m\u001b[0m\n\u001b[0m\u001b[0;32m      8\u001b[0m \u001b[1;33m\u001b[0m\u001b[0m\n\u001b[0;32m      9\u001b[0m \u001b[0mx1\u001b[0m\u001b[1;33m=\u001b[0m\u001b[0mtf\u001b[0m\u001b[1;33m.\u001b[0m\u001b[0mconstant\u001b[0m\u001b[1;33m(\u001b[0m\u001b[1;33m[\u001b[0m\u001b[1;33m[\u001b[0m\u001b[1;36m2\u001b[0m\u001b[1;33m,\u001b[0m\u001b[1;36m6\u001b[0m\u001b[1;33m]\u001b[0m\u001b[1;33m]\u001b[0m\u001b[1;33m)\u001b[0m\u001b[1;33m\u001b[0m\u001b[1;33m\u001b[0m\u001b[0m\n",
      "\u001b[1;31mTypeError\u001b[0m: function_complete() missing 3 required positional arguments: 'x', 'y', and 'b'"
     ]
    }
   ],
   "source": [
    "import tensorflow as tf \n",
    "\n",
    "def function_complete(x,y,b):\n",
    "    x=tf.matmul(x,y)\n",
    "    x=x+b\n",
    "    return x\n",
    "function_uses=tf.function(function_complete())\n",
    "\n",
    "x1=tf.constant([[2,6]])\n",
    "y1=tf.constant([[5,6],[7,8]])\n",
    "b1=tf.constant(3.0)\n",
    "\n",
    "function_uses(x1,y1,b1).numpy()\n",
    "\n"
   ]
  },
  {
   "cell_type": "code",
   "execution_count": 8,
   "id": "e8735383",
   "metadata": {},
   "outputs": [
    {
     "ename": "SyntaxError",
     "evalue": "invalid syntax (<ipython-input-8-7d39dc7969b9>, line 3)",
     "output_type": "error",
     "traceback": [
      "\u001b[1;36m  File \u001b[1;32m\"<ipython-input-8-7d39dc7969b9>\"\u001b[1;36m, line \u001b[1;32m3\u001b[0m\n\u001b[1;33m    def__init__(self):\u001b[0m\n\u001b[1;37m                      ^\u001b[0m\n\u001b[1;31mSyntaxError\u001b[0m\u001b[1;31m:\u001b[0m invalid syntax\n"
     ]
    }
   ],
   "source": [
    "import tensorflow as tf\n",
    "class model(object):\n",
    "    def__init__(self):\n",
    "        self.w=tf.Variable(5)\n",
    "        self.b=tf.Variable(8)\n",
    "        \n",
    "    def __call__(self,x):\n",
    "        return self.w*x+self.b\n",
    "    \n",
    "model=model()\n",
    "assert model(3).numpy()"
   ]
  },
  {
   "cell_type": "code",
   "execution_count": null,
   "id": "9b636cd3",
   "metadata": {},
   "outputs": [],
   "source": []
  }
 ],
 "metadata": {
  "kernelspec": {
   "display_name": "Python 3",
   "language": "python",
   "name": "python3"
  },
  "language_info": {
   "codemirror_mode": {
    "name": "ipython",
    "version": 3
   },
   "file_extension": ".py",
   "mimetype": "text/x-python",
   "name": "python",
   "nbconvert_exporter": "python",
   "pygments_lexer": "ipython3",
   "version": "3.8.8"
  }
 },
 "nbformat": 4,
 "nbformat_minor": 5
}
