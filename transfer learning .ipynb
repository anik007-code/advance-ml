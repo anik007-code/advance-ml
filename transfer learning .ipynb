{
 "cells": [
  {
   "cell_type": "code",
   "execution_count": 7,
   "id": "daf5ab6a",
   "metadata": {},
   "outputs": [],
   "source": [
    "import numpy as np\n",
    "import pandas as pd\n",
    "import tensorflow as tf\n",
    "from tensorflow import keras\n",
    "from keras import layers\n",
    "from tensorflow.keras.preprocessing import image_dataset_from_directory\n",
    "import os\n",
    "import matplotlib.pyplot as plt\n"
   ]
  },
  {
   "cell_type": "code",
   "execution_count": 8,
   "id": "7f3a6b1f",
   "metadata": {},
   "outputs": [],
   "source": [
    "url='https://storage.googleapis.com/mledu-datasets/cats_and_dogs_filtered.zip'"
   ]
  },
  {
   "cell_type": "code",
   "execution_count": 9,
   "id": "2eede855",
   "metadata": {},
   "outputs": [
    {
     "name": "stdout",
     "output_type": "stream",
     "text": [
      "Downloading data from https://storage.googleapis.com/mledu-datasets/cats_and_dogs_filtered.zip\n",
      "68608000/68606236 [==============================] - 121s 2us/step\n"
     ]
    }
   ],
   "source": [
    "dataset_path=keras.utils.get_file('cats_dogs.zip',url,extract=True)"
   ]
  },
  {
   "cell_type": "code",
   "execution_count": 13,
   "id": "3636dce3",
   "metadata": {},
   "outputs": [],
   "source": [
    "path=os.path.join(os.path.dirname(dataset_path),'cats_and_dogs_filtered')"
   ]
  },
  {
   "cell_type": "code",
   "execution_count": 14,
   "id": "aafed5a0",
   "metadata": {},
   "outputs": [],
   "source": [
    "train_dir=os.path.join(path,'train')\n",
    "validation_dir=os.path.join(path,'validation')"
   ]
  },
  {
   "cell_type": "code",
   "execution_count": 15,
   "id": "b43d49be",
   "metadata": {},
   "outputs": [
    {
     "name": "stdout",
     "output_type": "stream",
     "text": [
      "Found 2000 files belonging to 2 classes.\n"
     ]
    }
   ],
   "source": [
    "train_dataset=image_dataset_from_directory(train_dir,batch_size=32,image_size=(160,160))"
   ]
  },
  {
   "cell_type": "code",
   "execution_count": null,
   "id": "4928b766",
   "metadata": {},
   "outputs": [],
   "source": []
  }
 ],
 "metadata": {
  "kernelspec": {
   "display_name": "Python 3",
   "language": "python",
   "name": "python3"
  },
  "language_info": {
   "codemirror_mode": {
    "name": "ipython",
    "version": 3
   },
   "file_extension": ".py",
   "mimetype": "text/x-python",
   "name": "python",
   "nbconvert_exporter": "python",
   "pygments_lexer": "ipython3",
   "version": "3.8.8"
  }
 },
 "nbformat": 4,
 "nbformat_minor": 5
}
