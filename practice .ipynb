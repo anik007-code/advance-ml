{
 "cells": [
  {
   "cell_type": "code",
   "execution_count": 1,
   "id": "8a1b42cc",
   "metadata": {},
   "outputs": [
    {
     "name": "stdout",
     "output_type": "stream",
     "text": [
      "2.5.0\n",
      "True\n",
      "<function is_built_with_gpu_support at 0x000002020B380E50>\n"
     ]
    }
   ],
   "source": [
    "import tensorflow as tf \n",
    "print(tf.__version__)\n",
    "print(tf.test.is_built_with_cuda())\n",
    "print(tf.test.is_built_with_gpu_support)"
   ]
  },
  {
   "cell_type": "code",
   "execution_count": 2,
   "id": "f92ebca2",
   "metadata": {},
   "outputs": [
    {
     "data": {
      "text/html": [
       "<div>\n",
       "<style scoped>\n",
       "    .dataframe tbody tr th:only-of-type {\n",
       "        vertical-align: middle;\n",
       "    }\n",
       "\n",
       "    .dataframe tbody tr th {\n",
       "        vertical-align: top;\n",
       "    }\n",
       "\n",
       "    .dataframe thead th {\n",
       "        text-align: right;\n",
       "    }\n",
       "</style>\n",
       "<table border=\"1\" class=\"dataframe\">\n",
       "  <thead>\n",
       "    <tr style=\"text-align: right;\">\n",
       "      <th></th>\n",
       "      <th>0</th>\n",
       "      <th>1</th>\n",
       "      <th>2</th>\n",
       "      <th>3</th>\n",
       "      <th>4</th>\n",
       "      <th>5</th>\n",
       "      <th>6</th>\n",
       "    </tr>\n",
       "  </thead>\n",
       "  <tbody>\n",
       "    <tr>\n",
       "      <th>0</th>\n",
       "      <td>RMSD</td>\n",
       "      <td>Area</td>\n",
       "      <td>ED</td>\n",
       "      <td>Energy</td>\n",
       "      <td>SS</td>\n",
       "      <td>ResidueLength</td>\n",
       "      <td>PairNumber</td>\n",
       "    </tr>\n",
       "    <tr>\n",
       "      <th>1</th>\n",
       "      <td>3</td>\n",
       "      <td>4722.92</td>\n",
       "      <td>4019.64</td>\n",
       "      <td>-1.60E+03</td>\n",
       "      <td>13</td>\n",
       "      <td>79</td>\n",
       "      <td>317</td>\n",
       "    </tr>\n",
       "    <tr>\n",
       "      <th>2</th>\n",
       "      <td>2</td>\n",
       "      <td>4059.12</td>\n",
       "      <td>2191.03</td>\n",
       "      <td>-1146.08</td>\n",
       "      <td>20</td>\n",
       "      <td>54</td>\n",
       "      <td>165</td>\n",
       "    </tr>\n",
       "    <tr>\n",
       "      <th>3</th>\n",
       "      <td>2</td>\n",
       "      <td>4773.56</td>\n",
       "      <td>2787.99</td>\n",
       "      <td>-1263.38</td>\n",
       "      <td>46</td>\n",
       "      <td>67</td>\n",
       "      <td>224</td>\n",
       "    </tr>\n",
       "    <tr>\n",
       "      <th>4</th>\n",
       "      <td>4</td>\n",
       "      <td>8271.27</td>\n",
       "      <td>9545.98</td>\n",
       "      <td>-2848.93</td>\n",
       "      <td>26</td>\n",
       "      <td>138</td>\n",
       "      <td>554</td>\n",
       "    </tr>\n",
       "    <tr>\n",
       "      <th>...</th>\n",
       "      <td>...</td>\n",
       "      <td>...</td>\n",
       "      <td>...</td>\n",
       "      <td>...</td>\n",
       "      <td>...</td>\n",
       "      <td>...</td>\n",
       "      <td>...</td>\n",
       "    </tr>\n",
       "    <tr>\n",
       "      <th>16378</th>\n",
       "      <td>4</td>\n",
       "      <td>9280.68</td>\n",
       "      <td>11417</td>\n",
       "      <td>-3021.64</td>\n",
       "      <td>36</td>\n",
       "      <td>156</td>\n",
       "      <td>654</td>\n",
       "    </tr>\n",
       "    <tr>\n",
       "      <th>16379</th>\n",
       "      <td>3</td>\n",
       "      <td>8479.69</td>\n",
       "      <td>9455.54</td>\n",
       "      <td>-2932.85</td>\n",
       "      <td>17</td>\n",
       "      <td>138</td>\n",
       "      <td>554</td>\n",
       "    </tr>\n",
       "    <tr>\n",
       "      <th>16380</th>\n",
       "      <td>2</td>\n",
       "      <td>8872.53</td>\n",
       "      <td>27449.9</td>\n",
       "      <td>-2.87E+03</td>\n",
       "      <td>33</td>\n",
       "      <td>156</td>\n",
       "      <td>1364</td>\n",
       "    </tr>\n",
       "    <tr>\n",
       "      <th>16381</th>\n",
       "      <td>4</td>\n",
       "      <td>7738.99</td>\n",
       "      <td>26466.4</td>\n",
       "      <td>-2920.24</td>\n",
       "      <td>97</td>\n",
       "      <td>156</td>\n",
       "      <td>1521</td>\n",
       "    </tr>\n",
       "    <tr>\n",
       "      <th>16382</th>\n",
       "      <td>3</td>\n",
       "      <td>9368.34</td>\n",
       "      <td>39149.1</td>\n",
       "      <td>-2.97E+03</td>\n",
       "      <td>21</td>\n",
       "      <td>196</td>\n",
       "      <td>1885</td>\n",
       "    </tr>\n",
       "  </tbody>\n",
       "</table>\n",
       "<p>16383 rows × 7 columns</p>\n",
       "</div>"
      ],
      "text/plain": [
       "          0        1        2          3   4              5           6\n",
       "0      RMSD     Area       ED     Energy  SS  ResidueLength  PairNumber\n",
       "1         3  4722.92  4019.64  -1.60E+03  13             79         317\n",
       "2         2  4059.12  2191.03   -1146.08  20             54         165\n",
       "3         2  4773.56  2787.99   -1263.38  46             67         224\n",
       "4         4  8271.27  9545.98   -2848.93  26            138         554\n",
       "...     ...      ...      ...        ...  ..            ...         ...\n",
       "16378     4  9280.68    11417   -3021.64  36            156         654\n",
       "16379     3  8479.69  9455.54   -2932.85  17            138         554\n",
       "16380     2  8872.53  27449.9  -2.87E+03  33            156        1364\n",
       "16381     4  7738.99  26466.4   -2920.24  97            156        1521\n",
       "16382     3  9368.34  39149.1  -2.97E+03  21            196        1885\n",
       "\n",
       "[16383 rows x 7 columns]"
      ]
     },
     "execution_count": 2,
     "metadata": {},
     "output_type": "execute_result"
    }
   ],
   "source": [
    "import pandas as pd\n",
    "dataset=pd.read_csv('anik.csv', na_values='?', header=None, skipinitialspace=True)\n",
    "dataset"
   ]
  },
  {
   "cell_type": "code",
   "execution_count": 3,
   "id": "64d1b829",
   "metadata": {},
   "outputs": [
    {
     "data": {
      "text/plain": [
       "0    0\n",
       "1    0\n",
       "2    0\n",
       "3    0\n",
       "4    0\n",
       "5    0\n",
       "6    0\n",
       "dtype: int64"
      ]
     },
     "execution_count": 3,
     "metadata": {},
     "output_type": "execute_result"
    }
   ],
   "source": [
    "dataset.isnull().sum()"
   ]
  },
  {
   "cell_type": "code",
   "execution_count": 4,
   "id": "eabcead0",
   "metadata": {},
   "outputs": [],
   "source": [
    "columns=[0,1,2,3,4,5,6]\n",
    "\n",
    "dataset=pd.DataFrame(dataset)\n",
    "from sklearn.preprocessing import LabelEncoder\n",
    "le=LabelEncoder()\n",
    "for i in columns:\n",
    "    dataset[i]=le.fit_transform(dataset[i])"
   ]
  },
  {
   "cell_type": "code",
   "execution_count": 5,
   "id": "b11e86d4",
   "metadata": {},
   "outputs": [],
   "source": [
    "cols=[1,3,4]\n",
    "for i in cols:\n",
    "    dataset[i]=le.fit_transform(dataset[i])"
   ]
  },
  {
   "cell_type": "code",
   "execution_count": 6,
   "id": "61657f83",
   "metadata": {},
   "outputs": [
    {
     "data": {
      "text/html": [
       "<div>\n",
       "<style scoped>\n",
       "    .dataframe tbody tr th:only-of-type {\n",
       "        vertical-align: middle;\n",
       "    }\n",
       "\n",
       "    .dataframe tbody tr th {\n",
       "        vertical-align: top;\n",
       "    }\n",
       "\n",
       "    .dataframe thead th {\n",
       "        text-align: right;\n",
       "    }\n",
       "</style>\n",
       "<table border=\"1\" class=\"dataframe\">\n",
       "  <thead>\n",
       "    <tr style=\"text-align: right;\">\n",
       "      <th></th>\n",
       "      <th>0</th>\n",
       "      <th>1</th>\n",
       "      <th>2</th>\n",
       "      <th>3</th>\n",
       "      <th>4</th>\n",
       "      <th>5</th>\n",
       "      <th>6</th>\n",
       "    </tr>\n",
       "  </thead>\n",
       "  <tbody>\n",
       "    <tr>\n",
       "      <th>0</th>\n",
       "      <td>6</td>\n",
       "      <td>16009</td>\n",
       "      <td>16137</td>\n",
       "      <td>11529</td>\n",
       "      <td>341</td>\n",
       "      <td>652</td>\n",
       "      <td>2234</td>\n",
       "    </tr>\n",
       "    <tr>\n",
       "      <th>1</th>\n",
       "      <td>3</td>\n",
       "      <td>8499</td>\n",
       "      <td>9304</td>\n",
       "      <td>119</td>\n",
       "      <td>35</td>\n",
       "      <td>599</td>\n",
       "      <td>1023</td>\n",
       "    </tr>\n",
       "    <tr>\n",
       "      <th>2</th>\n",
       "      <td>2</td>\n",
       "      <td>8128</td>\n",
       "      <td>5199</td>\n",
       "      <td>772</td>\n",
       "      <td>113</td>\n",
       "      <td>444</td>\n",
       "      <td>475</td>\n",
       "    </tr>\n",
       "    <tr>\n",
       "      <th>3</th>\n",
       "      <td>2</td>\n",
       "      <td>8537</td>\n",
       "      <td>6734</td>\n",
       "      <td>1210</td>\n",
       "      <td>277</td>\n",
       "      <td>542</td>\n",
       "      <td>725</td>\n",
       "    </tr>\n",
       "    <tr>\n",
       "      <th>4</th>\n",
       "      <td>4</td>\n",
       "      <td>12871</td>\n",
       "      <td>15855</td>\n",
       "      <td>4537</td>\n",
       "      <td>174</td>\n",
       "      <td>38</td>\n",
       "      <td>1586</td>\n",
       "    </tr>\n",
       "  </tbody>\n",
       "</table>\n",
       "</div>"
      ],
      "text/plain": [
       "   0      1      2      3    4    5     6\n",
       "0  6  16009  16137  11529  341  652  2234\n",
       "1  3   8499   9304    119   35  599  1023\n",
       "2  2   8128   5199    772  113  444   475\n",
       "3  2   8537   6734   1210  277  542   725\n",
       "4  4  12871  15855   4537  174   38  1586"
      ]
     },
     "execution_count": 6,
     "metadata": {},
     "output_type": "execute_result"
    }
   ],
   "source": [
    "dataset.head()"
   ]
  },
  {
   "cell_type": "code",
   "execution_count": 7,
   "id": "71f0eb6d",
   "metadata": {},
   "outputs": [],
   "source": [
    "target=dataset[6]\n",
    "data=dataset.drop(columns=[6])"
   ]
  },
  {
   "cell_type": "code",
   "execution_count": 8,
   "id": "6d5ecf2f",
   "metadata": {},
   "outputs": [],
   "source": [
    "from sklearn.model_selection import train_test_split\n",
    "x_train, x_test, y_train, y_test=train_test_split(data, target, test_size=0.25)"
   ]
  },
  {
   "cell_type": "code",
   "execution_count": 9,
   "id": "3d6ce5fd",
   "metadata": {},
   "outputs": [
    {
     "data": {
      "text/plain": [
       "SVC()"
      ]
     },
     "execution_count": 9,
     "metadata": {},
     "output_type": "execute_result"
    }
   ],
   "source": [
    "from sklearn.svm import SVC\n",
    "svc=SVC()\n",
    "svc.fit(x_train, y_train)"
   ]
  },
  {
   "cell_type": "code",
   "execution_count": 10,
   "id": "fb07a1fe",
   "metadata": {},
   "outputs": [],
   "source": [
    "from sklearn.metrics import accuracy_score"
   ]
  },
  {
   "cell_type": "code",
   "execution_count": 11,
   "id": "170329c4",
   "metadata": {},
   "outputs": [
    {
     "name": "stdout",
     "output_type": "stream",
     "text": [
      "0.4766826727435501\n"
     ]
    }
   ],
   "source": [
    "pred_train=svc.predict(x_train)\n",
    "\n",
    "print(accuracy_score(pred_train, y_train))\n"
   ]
  },
  {
   "cell_type": "code",
   "execution_count": null,
   "id": "2679b244",
   "metadata": {},
   "outputs": [],
   "source": [
    "pred_test=svc.predict(x_test)\n",
    "\n",
    "print(accuracy_score(pred_test, y_test))\n"
   ]
  },
  {
   "cell_type": "code",
   "execution_count": null,
   "id": "63806562",
   "metadata": {},
   "outputs": [],
   "source": []
  },
  {
   "cell_type": "code",
   "execution_count": null,
   "id": "3bb54cce",
   "metadata": {},
   "outputs": [],
   "source": []
  }
 ],
 "metadata": {
  "kernelspec": {
   "display_name": "Python 3",
   "language": "python",
   "name": "python3"
  },
  "language_info": {
   "codemirror_mode": {
    "name": "ipython",
    "version": 3
   },
   "file_extension": ".py",
   "mimetype": "text/x-python",
   "name": "python",
   "nbconvert_exporter": "python",
   "pygments_lexer": "ipython3",
   "version": "3.8.8"
  }
 },
 "nbformat": 4,
 "nbformat_minor": 5
}
