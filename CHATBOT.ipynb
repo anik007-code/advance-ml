{
 "cells": [
  {
   "cell_type": "code",
   "execution_count": 1,
   "id": "4cd801fc",
   "metadata": {},
   "outputs": [],
   "source": [
    "# importing modules\n",
    "import pandas as pd\n",
    "from sklearn.feature_extraction.text import TfidfVectorizer\n",
    "from sklearn.preprocessing import LabelEncoder\n",
    "from tensorflow.keras import Sequential\n",
    "from tensorflow.keras.layers import Dense\n",
    "from tensorflow.keras.models import save_model"
   ]
  },
  {
   "cell_type": "code",
   "execution_count": 3,
   "id": "2b04d651",
   "metadata": {},
   "outputs": [],
   "source": [
    "# importing training data\n",
    "training_data = pd.read_csv(\"training_data.csv\")"
   ]
  },
  {
   "cell_type": "code",
   "execution_count": 4,
   "id": "ac5f2182",
   "metadata": {},
   "outputs": [],
   "source": [
    "# preprocessing training data\n",
    "training_data[\"patterns\"] = training_data[\"patterns\"].str.lower()\n",
    "vectorizer = TfidfVectorizer(ngram_range=(1, 2), stop_words=\"english\")\n",
    "training_data_tfidf = vectorizer.fit_transform(training_data[\"patterns\"]).toarray()"
   ]
  },
  {
   "cell_type": "code",
   "execution_count": 5,
   "id": "68aff784",
   "metadata": {},
   "outputs": [],
   "source": [
    "# preprocessing target variable(tags)\n",
    "le = LabelEncoder()\n",
    "training_data_tags_le = pd.DataFrame({\"tags\": le.fit_transform(training_data[\"tags\"])})\n",
    "training_data_tags_dummy_encoded = pd.get_dummies(training_data_tags_le[\"tags\"]).to_numpy()"
   ]
  },
  {
   "cell_type": "code",
   "execution_count": 6,
   "id": "8f234807",
   "metadata": {},
   "outputs": [],
   "source": [
    "# creating DNN\n",
    "chatbot = Sequential()\n",
    "chatbot.add(Dense(10, input_shape=(len(training_data_tfidf[0]),)))\n",
    "chatbot.add(Dense(8))\n",
    "chatbot.add(Dense(8))\n",
    "chatbot.add(Dense(6))\n",
    "chatbot.add(Dense(len(training_data_tags_dummy_encoded[0]), activation=\"softmax\"))\n",
    "chatbot.compile(optimizer=\"rmsprop\", loss=\"categorical_crossentropy\", metrics=[\"accuracy\"])"
   ]
  },
  {
   "cell_type": "code",
   "execution_count": 7,
   "id": "cbae7fb4",
   "metadata": {},
   "outputs": [
    {
     "name": "stdout",
     "output_type": "stream",
     "text": [
      "Epoch 1/50\n",
      "1/1 [==============================] - 1s 927ms/step - loss: 0.6540 - accuracy: 0.6667\n",
      "Epoch 2/50\n",
      "1/1 [==============================] - 0s 9ms/step - loss: 0.6312 - accuracy: 0.6667\n",
      "Epoch 3/50\n",
      "1/1 [==============================] - 0s 8ms/step - loss: 0.6149 - accuracy: 0.6667\n",
      "Epoch 4/50\n",
      "1/1 [==============================] - 0s 4ms/step - loss: 0.6012 - accuracy: 0.6667\n",
      "Epoch 5/50\n",
      "1/1 [==============================] - 0s 3ms/step - loss: 0.5891 - accuracy: 0.6667\n",
      "Epoch 6/50\n",
      "1/1 [==============================] - 0s 9ms/step - loss: 0.5781 - accuracy: 0.6667\n",
      "Epoch 7/50\n",
      "1/1 [==============================] - 0s 6ms/step - loss: 0.5677 - accuracy: 0.6667\n",
      "Epoch 8/50\n",
      "1/1 [==============================] - 0s 6ms/step - loss: 0.5579 - accuracy: 0.7500\n",
      "Epoch 9/50\n",
      "1/1 [==============================] - 0s 5ms/step - loss: 0.5485 - accuracy: 0.7500\n",
      "Epoch 10/50\n",
      "1/1 [==============================] - 0s 7ms/step - loss: 0.5395 - accuracy: 0.8333\n",
      "Epoch 11/50\n",
      "1/1 [==============================] - 0s 4ms/step - loss: 0.5308 - accuracy: 0.8333\n",
      "Epoch 12/50\n",
      "1/1 [==============================] - 0s 3ms/step - loss: 0.5223 - accuracy: 0.8333\n",
      "Epoch 13/50\n",
      "1/1 [==============================] - 0s 5ms/step - loss: 0.5140 - accuracy: 0.8333\n",
      "Epoch 14/50\n",
      "1/1 [==============================] - 0s 4ms/step - loss: 0.5059 - accuracy: 0.8333\n",
      "Epoch 15/50\n",
      "1/1 [==============================] - 0s 7ms/step - loss: 0.4981 - accuracy: 0.8333\n",
      "Epoch 16/50\n",
      "1/1 [==============================] - 0s 4ms/step - loss: 0.4904 - accuracy: 0.8333\n",
      "Epoch 17/50\n",
      "1/1 [==============================] - 0s 5ms/step - loss: 0.4829 - accuracy: 0.8333\n",
      "Epoch 18/50\n",
      "1/1 [==============================] - 0s 6ms/step - loss: 0.4756 - accuracy: 0.8333\n",
      "Epoch 19/50\n",
      "1/1 [==============================] - 0s 4ms/step - loss: 0.4684 - accuracy: 0.8333\n",
      "Epoch 20/50\n",
      "1/1 [==============================] - 0s 4ms/step - loss: 0.4614 - accuracy: 0.8333\n",
      "Epoch 21/50\n",
      "1/1 [==============================] - 0s 8ms/step - loss: 0.4546 - accuracy: 0.8333\n",
      "Epoch 22/50\n",
      "1/1 [==============================] - 0s 5ms/step - loss: 0.4480 - accuracy: 0.8333\n",
      "Epoch 23/50\n",
      "1/1 [==============================] - 0s 4ms/step - loss: 0.4416 - accuracy: 0.8333\n",
      "Epoch 24/50\n",
      "1/1 [==============================] - 0s 7ms/step - loss: 0.4353 - accuracy: 0.8333\n",
      "Epoch 25/50\n",
      "1/1 [==============================] - 0s 8ms/step - loss: 0.4292 - accuracy: 0.8333\n",
      "Epoch 26/50\n",
      "1/1 [==============================] - 0s 5ms/step - loss: 0.4233 - accuracy: 0.8333\n",
      "Epoch 27/50\n",
      "1/1 [==============================] - 0s 8ms/step - loss: 0.4176 - accuracy: 0.8333\n",
      "Epoch 28/50\n",
      "1/1 [==============================] - 0s 8ms/step - loss: 0.4120 - accuracy: 0.8333\n",
      "Epoch 29/50\n",
      "1/1 [==============================] - 0s 3ms/step - loss: 0.4066 - accuracy: 0.8333\n",
      "Epoch 30/50\n",
      "1/1 [==============================] - 0s 3ms/step - loss: 0.4014 - accuracy: 0.8333\n",
      "Epoch 31/50\n",
      "1/1 [==============================] - 0s 9ms/step - loss: 0.3963 - accuracy: 0.8333\n",
      "Epoch 32/50\n",
      "1/1 [==============================] - 0s 7ms/step - loss: 0.3914 - accuracy: 0.8333\n",
      "Epoch 33/50\n",
      "1/1 [==============================] - 0s 4ms/step - loss: 0.3866 - accuracy: 0.8333\n",
      "Epoch 34/50\n",
      "1/1 [==============================] - 0s 6ms/step - loss: 0.3819 - accuracy: 0.8333\n",
      "Epoch 35/50\n",
      "1/1 [==============================] - 0s 9ms/step - loss: 0.3774 - accuracy: 0.8333\n",
      "Epoch 36/50\n",
      "1/1 [==============================] - 0s 4ms/step - loss: 0.3730 - accuracy: 0.8333\n",
      "Epoch 37/50\n",
      "1/1 [==============================] - 0s 7ms/step - loss: 0.3686 - accuracy: 0.8333\n",
      "Epoch 38/50\n",
      "1/1 [==============================] - 0s 4ms/step - loss: 0.3644 - accuracy: 0.8333\n",
      "Epoch 39/50\n",
      "1/1 [==============================] - 0s 5ms/step - loss: 0.3601 - accuracy: 0.8333\n",
      "Epoch 40/50\n",
      "1/1 [==============================] - 0s 4ms/step - loss: 0.3560 - accuracy: 0.8333\n",
      "Epoch 41/50\n",
      "1/1 [==============================] - 0s 3ms/step - loss: 0.3518 - accuracy: 0.8333\n",
      "Epoch 42/50\n",
      "1/1 [==============================] - 0s 3ms/step - loss: 0.3477 - accuracy: 0.8333\n",
      "Epoch 43/50\n",
      "1/1 [==============================] - 0s 6ms/step - loss: 0.3435 - accuracy: 0.8333\n",
      "Epoch 44/50\n",
      "1/1 [==============================] - 0s 6ms/step - loss: 0.3394 - accuracy: 0.8333\n",
      "Epoch 45/50\n",
      "1/1 [==============================] - 0s 5ms/step - loss: 0.3352 - accuracy: 0.8333\n",
      "Epoch 46/50\n",
      "1/1 [==============================] - 0s 6ms/step - loss: 0.3310 - accuracy: 0.8333\n",
      "Epoch 47/50\n",
      "1/1 [==============================] - 0s 5ms/step - loss: 0.3268 - accuracy: 0.8333\n",
      "Epoch 48/50\n",
      "1/1 [==============================] - 0s 4ms/step - loss: 0.3226 - accuracy: 0.8333\n",
      "Epoch 49/50\n",
      "1/1 [==============================] - 0s 8ms/step - loss: 0.3183 - accuracy: 0.8333\n",
      "Epoch 50/50\n",
      "1/1 [==============================] - 0s 8ms/step - loss: 0.3140 - accuracy: 0.8333\n"
     ]
    },
    {
     "data": {
      "text/plain": [
       "<tensorflow.python.keras.callbacks.History at 0x17a0739ca30>"
      ]
     },
     "execution_count": 7,
     "metadata": {},
     "output_type": "execute_result"
    }
   ],
   "source": [
    "# fitting DNN\n",
    "chatbot.fit(training_data_tfidf, training_data_tags_dummy_encoded, epochs=50, batch_size=32)"
   ]
  },
  {
   "cell_type": "code",
   "execution_count": 8,
   "id": "114731d5",
   "metadata": {},
   "outputs": [
    {
     "name": "stdout",
     "output_type": "stream",
     "text": [
      "INFO:tensorflow:Assets written to: chatbot\\assets\n"
     ]
    }
   ],
   "source": [
    "# saving model file\n",
    "save_model(chatbot, \"chatbot\")"
   ]
  },
  {
   "cell_type": "code",
   "execution_count": 9,
   "id": "cc925a3a",
   "metadata": {},
   "outputs": [],
   "source": [
    "# importing modules\n",
    "import pandas as pd\n",
    "from sklearn.feature_extraction.text import TfidfVectorizer\n",
    "from sklearn.preprocessing import LabelEncoder\n",
    "import numpy as np\n",
    "from tensorflow.keras.models import load_model\n",
    "import json\n",
    "import random"
   ]
  },
  {
   "cell_type": "code",
   "execution_count": 14,
   "id": "ad0e62a9",
   "metadata": {},
   "outputs": [
    {
     "name": "stderr",
     "output_type": "stream",
     "text": [
      "UsageError: Cell magic `%%writeffile` not found.\n"
     ]
    }
   ],
   "source": [
    "%%writeffile responses.json"
   ]
  },
  {
   "cell_type": "code",
   "execution_count": 13,
   "id": "2ec3e473",
   "metadata": {},
   "outputs": [
    {
     "ename": "JSONDecodeError",
     "evalue": "Expecting value: line 1 column 1 (char 0)",
     "output_type": "error",
     "traceback": [
      "\u001b[1;31m---------------------------------------------------------------------------\u001b[0m",
      "\u001b[1;31mJSONDecodeError\u001b[0m                           Traceback (most recent call last)",
      "\u001b[1;32m<ipython-input-13-390f27a48211>\u001b[0m in \u001b[0;36m<module>\u001b[1;34m\u001b[0m\n\u001b[0;32m      4\u001b[0m \u001b[0mchatbot\u001b[0m \u001b[1;33m=\u001b[0m \u001b[0mload_model\u001b[0m\u001b[1;33m(\u001b[0m\u001b[1;34m\"chatbot\"\u001b[0m\u001b[1;33m)\u001b[0m\u001b[1;33m\u001b[0m\u001b[1;33m\u001b[0m\u001b[0m\n\u001b[0;32m      5\u001b[0m \u001b[1;31m# loading responses\u001b[0m\u001b[1;33m\u001b[0m\u001b[1;33m\u001b[0m\u001b[1;33m\u001b[0m\u001b[0m\n\u001b[1;32m----> 6\u001b[1;33m \u001b[0mresponses\u001b[0m \u001b[1;33m=\u001b[0m \u001b[0mjson\u001b[0m\u001b[1;33m.\u001b[0m\u001b[0mload\u001b[0m\u001b[1;33m(\u001b[0m\u001b[0mopen\u001b[0m\u001b[1;33m(\u001b[0m\u001b[1;34m\"responses.json\"\u001b[0m\u001b[1;33m,\u001b[0m \u001b[1;34m\"r\"\u001b[0m\u001b[1;33m)\u001b[0m\u001b[1;33m)\u001b[0m\u001b[1;33m\u001b[0m\u001b[1;33m\u001b[0m\u001b[0m\n\u001b[0m",
      "\u001b[1;32m~\\anaconda3\\lib\\json\\__init__.py\u001b[0m in \u001b[0;36mload\u001b[1;34m(fp, cls, object_hook, parse_float, parse_int, parse_constant, object_pairs_hook, **kw)\u001b[0m\n\u001b[0;32m    291\u001b[0m     \u001b[0mkwarg\u001b[0m\u001b[1;33m;\u001b[0m \u001b[0motherwise\u001b[0m\u001b[0;31m \u001b[0m\u001b[0;31m`\u001b[0m\u001b[0;31m`\u001b[0m\u001b[0mJSONDecoder\u001b[0m\u001b[0;31m`\u001b[0m\u001b[0;31m`\u001b[0m \u001b[1;32mis\u001b[0m \u001b[0mused\u001b[0m\u001b[1;33m.\u001b[0m\u001b[1;33m\u001b[0m\u001b[1;33m\u001b[0m\u001b[0m\n\u001b[0;32m    292\u001b[0m     \"\"\"\n\u001b[1;32m--> 293\u001b[1;33m     return loads(fp.read(),\n\u001b[0m\u001b[0;32m    294\u001b[0m         \u001b[0mcls\u001b[0m\u001b[1;33m=\u001b[0m\u001b[0mcls\u001b[0m\u001b[1;33m,\u001b[0m \u001b[0mobject_hook\u001b[0m\u001b[1;33m=\u001b[0m\u001b[0mobject_hook\u001b[0m\u001b[1;33m,\u001b[0m\u001b[1;33m\u001b[0m\u001b[1;33m\u001b[0m\u001b[0m\n\u001b[0;32m    295\u001b[0m         \u001b[0mparse_float\u001b[0m\u001b[1;33m=\u001b[0m\u001b[0mparse_float\u001b[0m\u001b[1;33m,\u001b[0m \u001b[0mparse_int\u001b[0m\u001b[1;33m=\u001b[0m\u001b[0mparse_int\u001b[0m\u001b[1;33m,\u001b[0m\u001b[1;33m\u001b[0m\u001b[1;33m\u001b[0m\u001b[0m\n",
      "\u001b[1;32m~\\anaconda3\\lib\\json\\__init__.py\u001b[0m in \u001b[0;36mloads\u001b[1;34m(s, cls, object_hook, parse_float, parse_int, parse_constant, object_pairs_hook, **kw)\u001b[0m\n\u001b[0;32m    355\u001b[0m             \u001b[0mparse_int\u001b[0m \u001b[1;32mis\u001b[0m \u001b[1;32mNone\u001b[0m \u001b[1;32mand\u001b[0m \u001b[0mparse_float\u001b[0m \u001b[1;32mis\u001b[0m \u001b[1;32mNone\u001b[0m \u001b[1;32mand\u001b[0m\u001b[1;33m\u001b[0m\u001b[1;33m\u001b[0m\u001b[0m\n\u001b[0;32m    356\u001b[0m             parse_constant is None and object_pairs_hook is None and not kw):\n\u001b[1;32m--> 357\u001b[1;33m         \u001b[1;32mreturn\u001b[0m \u001b[0m_default_decoder\u001b[0m\u001b[1;33m.\u001b[0m\u001b[0mdecode\u001b[0m\u001b[1;33m(\u001b[0m\u001b[0ms\u001b[0m\u001b[1;33m)\u001b[0m\u001b[1;33m\u001b[0m\u001b[1;33m\u001b[0m\u001b[0m\n\u001b[0m\u001b[0;32m    358\u001b[0m     \u001b[1;32mif\u001b[0m \u001b[0mcls\u001b[0m \u001b[1;32mis\u001b[0m \u001b[1;32mNone\u001b[0m\u001b[1;33m:\u001b[0m\u001b[1;33m\u001b[0m\u001b[1;33m\u001b[0m\u001b[0m\n\u001b[0;32m    359\u001b[0m         \u001b[0mcls\u001b[0m \u001b[1;33m=\u001b[0m \u001b[0mJSONDecoder\u001b[0m\u001b[1;33m\u001b[0m\u001b[1;33m\u001b[0m\u001b[0m\n",
      "\u001b[1;32m~\\anaconda3\\lib\\json\\decoder.py\u001b[0m in \u001b[0;36mdecode\u001b[1;34m(self, s, _w)\u001b[0m\n\u001b[0;32m    335\u001b[0m \u001b[1;33m\u001b[0m\u001b[0m\n\u001b[0;32m    336\u001b[0m         \"\"\"\n\u001b[1;32m--> 337\u001b[1;33m         \u001b[0mobj\u001b[0m\u001b[1;33m,\u001b[0m \u001b[0mend\u001b[0m \u001b[1;33m=\u001b[0m \u001b[0mself\u001b[0m\u001b[1;33m.\u001b[0m\u001b[0mraw_decode\u001b[0m\u001b[1;33m(\u001b[0m\u001b[0ms\u001b[0m\u001b[1;33m,\u001b[0m \u001b[0midx\u001b[0m\u001b[1;33m=\u001b[0m\u001b[0m_w\u001b[0m\u001b[1;33m(\u001b[0m\u001b[0ms\u001b[0m\u001b[1;33m,\u001b[0m \u001b[1;36m0\u001b[0m\u001b[1;33m)\u001b[0m\u001b[1;33m.\u001b[0m\u001b[0mend\u001b[0m\u001b[1;33m(\u001b[0m\u001b[1;33m)\u001b[0m\u001b[1;33m)\u001b[0m\u001b[1;33m\u001b[0m\u001b[1;33m\u001b[0m\u001b[0m\n\u001b[0m\u001b[0;32m    338\u001b[0m         \u001b[0mend\u001b[0m \u001b[1;33m=\u001b[0m \u001b[0m_w\u001b[0m\u001b[1;33m(\u001b[0m\u001b[0ms\u001b[0m\u001b[1;33m,\u001b[0m \u001b[0mend\u001b[0m\u001b[1;33m)\u001b[0m\u001b[1;33m.\u001b[0m\u001b[0mend\u001b[0m\u001b[1;33m(\u001b[0m\u001b[1;33m)\u001b[0m\u001b[1;33m\u001b[0m\u001b[1;33m\u001b[0m\u001b[0m\n\u001b[0;32m    339\u001b[0m         \u001b[1;32mif\u001b[0m \u001b[0mend\u001b[0m \u001b[1;33m!=\u001b[0m \u001b[0mlen\u001b[0m\u001b[1;33m(\u001b[0m\u001b[0ms\u001b[0m\u001b[1;33m)\u001b[0m\u001b[1;33m:\u001b[0m\u001b[1;33m\u001b[0m\u001b[1;33m\u001b[0m\u001b[0m\n",
      "\u001b[1;32m~\\anaconda3\\lib\\json\\decoder.py\u001b[0m in \u001b[0;36mraw_decode\u001b[1;34m(self, s, idx)\u001b[0m\n\u001b[0;32m    353\u001b[0m             \u001b[0mobj\u001b[0m\u001b[1;33m,\u001b[0m \u001b[0mend\u001b[0m \u001b[1;33m=\u001b[0m \u001b[0mself\u001b[0m\u001b[1;33m.\u001b[0m\u001b[0mscan_once\u001b[0m\u001b[1;33m(\u001b[0m\u001b[0ms\u001b[0m\u001b[1;33m,\u001b[0m \u001b[0midx\u001b[0m\u001b[1;33m)\u001b[0m\u001b[1;33m\u001b[0m\u001b[1;33m\u001b[0m\u001b[0m\n\u001b[0;32m    354\u001b[0m         \u001b[1;32mexcept\u001b[0m \u001b[0mStopIteration\u001b[0m \u001b[1;32mas\u001b[0m \u001b[0merr\u001b[0m\u001b[1;33m:\u001b[0m\u001b[1;33m\u001b[0m\u001b[1;33m\u001b[0m\u001b[0m\n\u001b[1;32m--> 355\u001b[1;33m             \u001b[1;32mraise\u001b[0m \u001b[0mJSONDecodeError\u001b[0m\u001b[1;33m(\u001b[0m\u001b[1;34m\"Expecting value\"\u001b[0m\u001b[1;33m,\u001b[0m \u001b[0ms\u001b[0m\u001b[1;33m,\u001b[0m \u001b[0merr\u001b[0m\u001b[1;33m.\u001b[0m\u001b[0mvalue\u001b[0m\u001b[1;33m)\u001b[0m \u001b[1;32mfrom\u001b[0m \u001b[1;32mNone\u001b[0m\u001b[1;33m\u001b[0m\u001b[1;33m\u001b[0m\u001b[0m\n\u001b[0m\u001b[0;32m    356\u001b[0m         \u001b[1;32mreturn\u001b[0m \u001b[0mobj\u001b[0m\u001b[1;33m,\u001b[0m \u001b[0mend\u001b[0m\u001b[1;33m\u001b[0m\u001b[1;33m\u001b[0m\u001b[0m\n",
      "\u001b[1;31mJSONDecodeError\u001b[0m: Expecting value: line 1 column 1 (char 0)"
     ]
    }
   ],
   "source": [
    "# importing training data\n",
    "training_data = pd.read_csv(\"training_data.csv\")\n",
    "# loading model\n",
    "chatbot = load_model(\"chatbot\")\n",
    "# loading responses\n",
    "responses = json.load(open(\"responses.json\", \"r\"))"
   ]
  },
  {
   "cell_type": "code",
   "execution_count": null,
   "id": "7701834e",
   "metadata": {},
   "outputs": [],
   "source": [
    "# fitting TfIdfVectorizer with training data to preprocess inputs\n",
    "training_data[\"patterns\"] = training_data[\"patterns\"].str.lower()\n",
    "vectorizer = TfidfVectorizer(ngram_range=(1, 2), stop_words=\"english\")\n",
    "vectorizer.fit(training_data[\"patterns\"])"
   ]
  },
  {
   "cell_type": "code",
   "execution_count": null,
   "id": "4790154d",
   "metadata": {},
   "outputs": [],
   "source": [
    "# fitting LabelEncoder with target variable(tags) for inverse transformation of predictions\n",
    "le = LabelEncoder()\n",
    "le.fit(training_data[\"tags\"])"
   ]
  },
  {
   "cell_type": "code",
   "execution_count": null,
   "id": "4d61dd41",
   "metadata": {},
   "outputs": [],
   "source": [
    "# transforming input and predicting intent\n",
    "def predict_tag(inp_str):\n",
    "    inp_data_tfidf = vectorizer.transform([inp_str.lower()]).toarray()\n",
    "    predicted_proba = edubot_v2.predict(inp_data_tfidf)\n",
    "    encoded_label = [np.argmax(predicted_proba)]\n",
    "    predicted_tag = le.inverse_transform(encoded_label)[0]\n",
    "    return predicted_tag"
   ]
  },
  {
   "cell_type": "code",
   "execution_count": null,
   "id": "d43385c9",
   "metadata": {},
   "outputs": [],
   "source": [
    "# defining chat function\n",
    "def start_chat():\n",
    "    print(\"---------------  AI Chat bot  ---------------\")\n",
    "    print(\"Ask any queries...\")\n",
    "    print(\"I will try to understand you and reply...\")\n",
    "    print(\"Type EXIT to quit...\")\n",
    "    while True:\n",
    "        inp = input(\"Ask anything... : \")\n",
    "        if inp == \"EXIT\":\n",
    "            break\n",
    "        else:\n",
    "            if inp:\n",
    "                tag = predict_tag(inp)\n",
    "                response = random.choice(responses[tag])\n",
    "                print(\"Response... : \", response)\n",
    "            else:\n",
    "                pass"
   ]
  },
  {
   "cell_type": "code",
   "execution_count": null,
   "id": "bacdb3f7",
   "metadata": {},
   "outputs": [],
   "source": [
    "# calling chat function to start chatting\n",
    "start_chat()"
   ]
  },
  {
   "cell_type": "code",
   "execution_count": null,
   "id": "e4e72141",
   "metadata": {},
   "outputs": [],
   "source": []
  },
  {
   "cell_type": "code",
   "execution_count": null,
   "id": "5365518d",
   "metadata": {},
   "outputs": [],
   "source": []
  },
  {
   "cell_type": "code",
   "execution_count": null,
   "id": "ca7f071c",
   "metadata": {},
   "outputs": [],
   "source": []
  }
 ],
 "metadata": {
  "kernelspec": {
   "display_name": "Python 3",
   "language": "python",
   "name": "python3"
  },
  "language_info": {
   "codemirror_mode": {
    "name": "ipython",
    "version": 3
   },
   "file_extension": ".py",
   "mimetype": "text/x-python",
   "name": "python",
   "nbconvert_exporter": "python",
   "pygments_lexer": "ipython3",
   "version": "3.8.8"
  }
 },
 "nbformat": 4,
 "nbformat_minor": 5
}
