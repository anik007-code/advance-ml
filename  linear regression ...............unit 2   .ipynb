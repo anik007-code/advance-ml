{
 "cells": [
  {
   "cell_type": "markdown",
   "id": "cd212fdf",
   "metadata": {},
   "source": [
    "# loss function"
   ]
  },
  {
   "cell_type": "code",
   "execution_count": 2,
   "id": "be9e7638",
   "metadata": {},
   "outputs": [],
   "source": [
    "# Define the model\n",
    "import tensorflow as tf\n",
    "class Model(object):\n",
    "    def __init__(self):\n",
    "        self.w=tf.Variable(6.0)\n",
    "        self.b=tf.Variable(0.0)\n",
    "  \n",
    "    def __call__(self,x):\n",
    "        return self.w*x + self.b\n",
    "\n",
    "model=Model()\n",
    "assert model(4.0).numpy()"
   ]
  },
  {
   "cell_type": "code",
   "execution_count": 3,
   "id": "85dc32f8",
   "metadata": {},
   "outputs": [],
   "source": [
    "#Define loss function\n",
    "\n",
    "def loss(target_y,predicted_y):\n",
    "    return tf.reduce_mean(tf.square(target_y - predicted_y))\n"
   ]
  },
  {
   "cell_type": "code",
   "execution_count": 4,
   "id": "8f8738a7",
   "metadata": {},
   "outputs": [],
   "source": [
    "#normalization of the data\n",
    "TRUE_W=3.0\n",
    "TRUE_b=2.0\n",
    "num_example=1000\n",
    "inputs=tf.random.normal(shape=[num_example])\n",
    "noise=tf.random.normal(shape=[num_example])\n",
    "outputs= inputs*TRUE_W+ TRUE_b+noise"
   ]
  },
  {
   "cell_type": "code",
   "execution_count": 5,
   "id": "cb9cf330",
   "metadata": {},
   "outputs": [
    {
     "data": {
      "image/png": "[encoded data removed]",
      "text/plain": [
       "<Figure size 432x288 with 1 Axes>"
      ]
     },
     "metadata": {
      "needs_background": "light"
     },
     "output_type": "display_data"
    },
    {
     "name": "stdout",
     "output_type": "stream",
     "text": [
      "current loss: 13.790031\n"
     ]
    }
   ],
   "source": [
    "import matplotlib.pyplot as plt\n",
    "\n",
    "plt.scatter(inputs,outputs,c='b')\n",
    "plt.scatter(inputs,model(inputs),c='r')\n",
    "plt.show()\n",
    "\n",
    "print(\"current loss: %1.6f\" %loss(model(inputs),outputs).numpy())"
   ]
  },
  {
   "cell_type": "code",
   "execution_count": 7,
   "id": "3b74977a",
   "metadata": {},
   "outputs": [],
   "source": [
    "#define a training loop\n",
    "def train (model, inputs,outputs,learning_rate):\n",
    "    with tf.GradientTape() as t:\n",
    "        current_loss=loss(outputs,model(inputs))\n",
    "    dW,db=t.gradient(current_loss,[model.w,model.b])\n",
    "    model.w.assign_sub(learning_rate*dW)\n",
    "    model.b.assign_sub(learning_rate*db)"
   ]
  },
  {
   "cell_type": "code",
   "execution_count": 8,
   "id": "5be8bf44",
   "metadata": {},
   "outputs": [
    {
     "name": "stdout",
     "output_type": "stream",
     "text": [
      "Epoch  0: w=6.00 b=0.00,loss=13.79003\n",
      "Epoch  1: w=5.39 b=0.38,loss=9.20993\n",
      "Epoch  2: w=4.91 b=0.68,loss=6.27804\n",
      "Epoch  3: w=4.53 b=0.93,loss=4.40055\n",
      "Epoch  4: w=4.22 b=1.13,loss=3.19783\n",
      "Epoch  5: w=3.98 b=1.30,loss=2.42711\n",
      "Epoch  6: w=3.79 b=1.43,loss=1.93304\n",
      "Epoch  7: w=3.63 b=1.54,loss=1.61623\n",
      "Epoch  8: w=3.51 b=1.62,loss=1.41300\n",
      "Epoch  9: w=3.41 b=1.69,loss=1.28261\n"
     ]
    },
    {
     "data": {
      "image/png": "[encoded data removed]",
      "text/plain": [
       "<Figure size 432x288 with 1 Axes>"
      ]
     },
     "metadata": {
      "needs_background": "light"
     },
     "output_type": "display_data"
    }
   ],
   "source": [
    "model=Model()\n",
    "\n",
    "#collect the history of weights and bias to plot later\n",
    "Ws,bs=[],[]\n",
    "epochs=range(10)\n",
    "for epoch in epochs:\n",
    "    Ws.append(model.w.numpy())\n",
    "    bs.append(model.b.numpy())\n",
    "    current_loss=loss(outputs,model(inputs))\n",
    "\n",
    "    train(model,inputs,outputs,learning_rate=0.1)\n",
    "    print(\"Epoch %2d: w=%1.2f b=%1.2f,loss=%2.5f\" %(epoch,Ws[-1],bs[-1],current_loss))\n",
    "\n",
    "plt.plot(epochs,Ws,'r', epochs, bs,'b')\n",
    "plt.plot([TRUE_W]*len(epochs),\"r--\",\n",
    "         [TRUE_b]*len(epochs),\"b--\")\n",
    "plt.legend(['W','b','TRUE_W','TRUE_b'])\n",
    "plt.show()"
   ]
  },
  {
   "cell_type": "code",
   "execution_count": null,
   "id": "be4caae6",
   "metadata": {},
   "outputs": [],
   "source": []
  }
 ],
 "metadata": {
  "kernelspec": {
   "display_name": "Python 3",
   "language": "python",
   "name": "python3"
  },
  "language_info": {
   "codemirror_mode": {
    "name": "ipython",
    "version": 3
   },
   "file_extension": ".py",
   "mimetype": "text/x-python",
   "name": "python",
   "nbconvert_exporter": "python",
   "pygments_lexer": "ipython3",
   "version": "3.8.8"
  }
 },
 "nbformat": 4,
 "nbformat_minor": 5
}
