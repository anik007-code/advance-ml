{
 "cells": [
  {
   "cell_type": "code",
   "execution_count": null,
   "id": "85b82f95",
   "metadata": {},
   "outputs": [],
   "source": [
    "#placeholder\n",
    "\n",
    "\n",
    "import tensorflow.compat.v1 as tf\n",
    "from tensorflow import*\n",
    "import numpy as np \n",
    "x=np.random.randn(5,10)\n",
    "y=np.random.randn(10,1)\n",
    "\n",
    "with tf.Graph().as_default():\n",
    "    xw=tf.Placeholder(tf.float32,shape=(5,10))\n",
    "    yw=tf.Placeholder(tf.float32,shape=(10,1))\n",
    "    b=tf.fill((5,1),-1)\n",
    "    xwb=tf.mutual(xw,wy)\n",
    "    xwbb=xwb+b\n",
    "    s=tf.reduce_max(xwb)\n",
    "    with tf.Session\n",
    "    "
   ]
  },
  {
   "cell_type": "code",
   "execution_count": null,
   "id": "a7c5dd69",
   "metadata": {},
   "outputs": [],
   "source": []
  },
  {
   "cell_type": "code",
   "execution_count": 2,
   "id": "28a9acde",
   "metadata": {},
   "outputs": [],
   "source": [
    "%load_ext tensorboard"
   ]
  },
  {
   "cell_type": "code",
   "execution_count": 1,
   "id": "20e8fa57",
   "metadata": {},
   "outputs": [],
   "source": [
    "#SGD optimizer\n",
    "import numpy as np\n",
    "import tensorflow as tf\n",
    "\n",
    "#data creation\n",
    "tf.compat.v1.disable_eager_execution()\n",
    "x_data=np.random.randn(2000,3)\n",
    "w_real=[0.3,0.5,0.1]\n",
    "b_real= -0.2\n",
    "noise=np.random.randn(1,2000)*0.1\n",
    "y_data= np.matmul(w_real,x_data.T)+b_real+noise"
   ]
  },
  {
   "cell_type": "code",
   "execution_count": null,
   "id": "bf79420a",
   "metadata": {},
   "outputs": [],
   "source": [
    "NUM_STEPS=10\n",
    "g= tf.Graph()\n",
    "wb_=[]\n",
    "with g.as_default():\n",
    "    x=tf.compat.v1.placeholder(tf.float32,shape=[None,3])\n",
    "    y_true=tf.compat.v1.placeholder(tf.float32,shape=None)\n",
    "    with tf.name_scope('inference') as scope:\n",
    "        w=tf.Variable([[0,0,0]],dtype=tf.float32,name=\"weights\")\n",
    "        b=tf.Variable(0,dtype=tf.float32,name=\"bias\")\n",
    "        y_predict = tf.matmul(w,tf.transpose(x))+b\n",
    "  \n",
    "with tf.name_scope('loss')as scope:\n",
    "        loss=tf.reduce_mean(tf.square(y_true - y_predict))\n",
    "  \n",
    "with tf.name_scope('train') as scope:\n",
    "        learning_rate=0.5\n",
    "        optimizer=tf.compat.v1.train.GradientDescentOptimizer(learning_rate)\n",
    "        train=optimizer.minimize(loss)\n",
    "        init=tf.compat.v1.global_variables_initializer()\n",
    "with tf.compat.v1.Session() as sess:\n",
    "    sess.run(init)\n",
    "    for step in range(NUM_STEPS):\n",
    "      sess.run(train,feed_dict={x:x_data,y_true:y_data})\n",
    "      if(step % 5== 0):\n",
    "        print(step,sess.run([w,b]))\n",
    "        wb_.append(sess.run([w,b]))\n",
    "    print(10,sess.run([w,b]))\n"
   ]
  }
 ],
 "metadata": {
  "kernelspec": {
   "display_name": "Python 3",
   "language": "python",
   "name": "python3"
  },
  "language_info": {
   "codemirror_mode": {
    "name": "ipython",
    "version": 3
   },
   "file_extension": ".py",
   "mimetype": "text/x-python",
   "name": "python",
   "nbconvert_exporter": "python",
   "pygments_lexer": "ipython3",
   "version": "3.8.8"
  }
 },
 "nbformat": 4,
 "nbformat_minor": 5
}
